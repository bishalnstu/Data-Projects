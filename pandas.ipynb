{
 "cells": [
  {
   "cell_type": "code",
   "execution_count": 11,
   "metadata": {},
   "outputs": [
    {
     "name": "stdout",
     "output_type": "stream",
     "text": [
      "[60 86 98 54  1 18 62  4 50 17 80 46 29 29 18 45  2 20 91 44]\n",
      "23    60\n",
      "21    86\n",
      "32    98\n",
      "58    54\n",
      "82     1\n",
      "50    18\n",
      "15    62\n",
      "52     4\n",
      "44    50\n",
      "60    17\n",
      "91    80\n",
      "82    46\n",
      "77    29\n",
      "35    29\n",
      "92    18\n",
      "97    45\n",
      "17     2\n",
      "73    20\n",
      "81    91\n",
      "33    44\n",
      "dtype: int32\n"
     ]
    },
    {
     "data": {
      "text/plain": [
       "854"
      ]
     },
     "execution_count": 11,
     "metadata": {},
     "output_type": "execute_result"
    }
   ],
   "source": [
    "import pandas as pd\n",
    "import numpy as np\n",
    "arra=np.random.randint(1,100,20)\n",
    "arra1=np.random.randint(1,100,20)\n",
    "print(arra)\n",
    "\n",
    "parra=pd.Series(arra,arra1)\n",
    "print(parra)\n",
    "parra.sum()\n",
    "\n"
   ]
  },
  {
   "cell_type": "code",
   "execution_count": null,
   "metadata": {},
   "outputs": [],
   "source": []
  }
 ],
 "metadata": {
  "kernelspec": {
   "display_name": "Python 3",
   "language": "python",
   "name": "python3"
  },
  "language_info": {
   "codemirror_mode": {
    "name": "ipython",
    "version": 3
   },
   "file_extension": ".py",
   "mimetype": "text/x-python",
   "name": "python",
   "nbconvert_exporter": "python",
   "pygments_lexer": "ipython3",
   "version": "3.8.3"
  }
 },
 "nbformat": 4,
 "nbformat_minor": 4
}
