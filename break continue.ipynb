{
 "cells": [
  {
   "cell_type": "code",
   "execution_count": 4,
   "metadata": {},
   "outputs": [
    {
     "name": "stdout",
     "output_type": "stream",
     "text": [
      "bishal biswas\n",
      "12\n",
      "they are not equal\n",
      "bishal biswas\n",
      "they are equal\n"
     ]
    }
   ],
   "source": [
    "name1=\"bishal biswas\"\n",
    "\n",
    "print(name1)\n",
    "\n",
    "while True:\n",
    "    name2=input()\n",
    "    if(name1==name2):\n",
    "        print(\"they are equal\")\n",
    "        break\n",
    "    else:\n",
    "        print(\"they are not equal\")\n",
    "    \n",
    "    "
   ]
  },
  {
   "cell_type": "code",
   "execution_count": null,
   "metadata": {},
   "outputs": [],
   "source": []
  }
 ],
 "metadata": {
  "kernelspec": {
   "display_name": "Python 3",
   "language": "python",
   "name": "python3"
  },
  "language_info": {
   "codemirror_mode": {
    "name": "ipython",
    "version": 3
   },
   "file_extension": ".py",
   "mimetype": "text/x-python",
   "name": "python",
   "nbconvert_exporter": "python",
   "pygments_lexer": "ipython3",
   "version": "3.8.3"
  }
 },
 "nbformat": 4,
 "nbformat_minor": 4
}
