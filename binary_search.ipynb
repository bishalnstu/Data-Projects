{
 "cells": [
  {
   "cell_type": "code",
   "execution_count": 22,
   "metadata": {
    "scrolled": true
   },
   "outputs": [],
   "source": [
    "from math import *\n",
    "\n",
    "\n",
    "def search_item(n,data):\n",
    "    beg=0\n",
    "    end=len(data)-1\n",
    "    c=0\n",
    "\n",
    "    m=int(input())\n",
    "\n",
    "    while(beg<=end):\n",
    "        mid=ceil((beg+end)/2)\n",
    "        print(mid)\n",
    "        if m==data[mid]:\n",
    "            c=1\n",
    "            break\n",
    "        elif m<data[mid]:\n",
    "            end=mid-1\n",
    "        else :\n",
    "            beg=mid+1\n",
    "\n",
    "    if c == 0 :\n",
    "        print(\"item not found\")\n",
    "    else :\n",
    "        print(\"item found\")\n",
    "        \n",
    "\n"
   ]
  },
  {
   "cell_type": "markdown",
   "metadata": {},
   "source": []
  },
  {
   "cell_type": "code",
   "execution_count": null,
   "metadata": {},
   "outputs": [],
   "source": []
  },
  {
   "cell_type": "code",
   "execution_count": null,
   "metadata": {},
   "outputs": [],
   "source": []
  }
 ],
 "metadata": {
  "kernelspec": {
   "display_name": "Python 3",
   "language": "python",
   "name": "python3"
  },
  "language_info": {
   "codemirror_mode": {
    "name": "ipython",
    "version": 3
   },
   "file_extension": ".py",
   "mimetype": "text/x-python",
   "name": "python",
   "nbconvert_exporter": "python",
   "pygments_lexer": "ipython3",
   "version": "3.8.3"
  }
 },
 "nbformat": 4,
 "nbformat_minor": 4
}
