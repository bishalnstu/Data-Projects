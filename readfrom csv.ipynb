{
 "cells": [
  {
   "cell_type": "code",
   "execution_count": 4,
   "metadata": {},
   "outputs": [],
   "source": [
    "import matplotlib.pyplot as plt\n",
    "import csv\n",
    "import numpy as np"
   ]
  },
  {
   "cell_type": "code",
   "execution_count": 53,
   "metadata": {},
   "outputs": [
    {
     "name": "stdout",
     "output_type": "stream",
     "text": [
      "[64, 55, 60, 60, 62, 58, 62, 62, 64, 71, 62, 65, 60, 61, 75, 75, 71, 60, 70, 55, 65, 61, 72, 76, 54, 66, 65, 66, 76, 66, 66, 67, 62, 62, 80, 81]\n",
      "[ 1  2  3  4  5  6  7  8  9 10 11 12 13 14 15 16 17 18 19 20 21 22 23 24\n",
      " 25 26 27 28 29 30]\n"
     ]
    },
    {
     "data": {
      "image/png": "[encoded data removed]",
      "text/plain": [
       "<Figure size 432x288 with 1 Axes>"
      ]
     },
     "metadata": {
      "needs_background": "light"
     },
     "output_type": "display_data"
    }
   ],
   "source": [
    "y=[]\n",
    "\n",
    "with open('testdata.csv','r') as csvfile:\n",
    "    plots=csv.reader(csvfile)\n",
    "    for col in plots:\n",
    "        temp=int(col[0])\n",
    "        y.append(temp)\n",
    "    \n",
    "print(y)\n",
    "bins=20\n",
    "\n",
    "print(x)\n",
    "range=(20,100)\n",
    "\n",
    "plt.hist(y,bins,range,histtype='bar',rwidth=0.7)\n",
    "plt.title(\"Histogram of Marks\")\n",
    "plt.show()\n",
    "\n",
    "    "
   ]
  },
  {
   "cell_type": "code",
   "execution_count": null,
   "metadata": {},
   "outputs": [],
   "source": []
  }
 ],
 "metadata": {
  "kernelspec": {
   "display_name": "Python 3",
   "language": "python",
   "name": "python3"
  },
  "language_info": {
   "codemirror_mode": {
    "name": "ipython",
    "version": 3
   },
   "file_extension": ".py",
   "mimetype": "text/x-python",
   "name": "python",
   "nbconvert_exporter": "python",
   "pygments_lexer": "ipython3",
   "version": "3.8.3"
  }
 },
 "nbformat": 4,
 "nbformat_minor": 4
}
