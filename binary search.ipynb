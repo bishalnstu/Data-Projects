{
 "cells": [
  {
   "cell_type": "code",
   "execution_count": 5,
   "metadata": {},
   "outputs": [
    {
     "name": "stdout",
     "output_type": "stream",
     "text": [
      "enter the size of array 5\n",
      "121\n",
      "1222\n",
      "34434\n",
      "45443545\n",
      "1000000000\n",
      "1222\n",
      "2\n",
      "1\n",
      "item found\n"
     ]
    }
   ],
   "source": [
    "from binary_search import *\n",
    "i=0\n",
    "data = []\n",
    "n=int(input(\"enter the size of array \"))\n",
    "for i in range(i,n):\n",
    "    data.append(int(input()))\n",
    "    iterator = iter(data)\n",
    "search_item(n,data)"
   ]
  },
  {
   "cell_type": "code",
   "execution_count": null,
   "metadata": {},
   "outputs": [],
   "source": []
  }
 ],
 "metadata": {
  "kernelspec": {
   "display_name": "Python 3",
   "language": "python",
   "name": "python3"
  },
  "language_info": {
   "codemirror_mode": {
    "name": "ipython",
    "version": 3
   },
   "file_extension": ".py",
   "mimetype": "text/x-python",
   "name": "python",
   "nbconvert_exporter": "python",
   "pygments_lexer": "ipython3",
   "version": "3.8.3"
  }
 },
 "nbformat": 4,
 "nbformat_minor": 4
}
